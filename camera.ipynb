{
 "cells": [
  {
   "cell_type": "code",
   "execution_count": null,
   "metadata": {},
   "outputs": [],
   "source": [
    "# -*- coding: utf-8 -*-\n",
    "\n",
    "import cv2\n",
    "\n",
    "CAM_ID = 0\n",
    "\n",
    "cam = cv2.VideoCapture(CAM_ID)  # 카메라 생성\n",
    "if not cam.isOpened():  # 카메라 생성 확인\n",
    "    print(\"Can\\'t open the CAM(%d)\" % CAM_ID)\n",
    "    exit()\n",
    "\n",
    "# 카메라 이미지 해상도 얻기\n",
    "width = cam.get(cv2.CAP_PROP_FRAME_WIDTH)\n",
    "height = cam.get(cv2.CAP_PROP_FRAME_HEIGHT)\n",
    "print('size = [%f, %f]\\n' % (width, height))\n",
    "\n",
    "# 윈도우 생성 및 사이즈 변경\n",
    "cv2.namedWindow('CAM_Window')\n",
    "cv2.resizeWindow('CAM_Window', 1280, 720)\n",
    "\n",
    "while (True):\n",
    "    # 카메라에서 이미지 얻기\n",
    "    ret, frame = cam.read()\n",
    "\n",
    "    # 얻어온 이미지 윈도우에 표시\n",
    "    cv2.imshow('CAM_Window', frame)\n",
    "\n",
    "    # 10ms 동안 키입력 대기\n",
    "    if cv2.waitKey(10) >= 0:\n",
    "        break\n",
    "\n",
    "# 윈도우 종료\n",
    "cam.release()\n",
    "cv2.destroyWindow('CAM_Window')"
   ]
  }
 ],
 "metadata": {
  "kernelspec": {
   "display_name": "Python 3",
   "language": "python",
   "name": "python3"
  },
  "language_info": {
   "codemirror_mode": {
    "name": "ipython",
    "version": 3
   },
   "file_extension": ".py",
   "mimetype": "text/x-python",
   "name": "python",
   "nbconvert_exporter": "python",
   "pygments_lexer": "ipython3",
   "version": "3.8.5"
  },
  "toc": {
   "base_numbering": 1,
   "nav_menu": {},
   "number_sections": true,
   "sideBar": true,
   "skip_h1_title": false,
   "title_cell": "Table of Contents",
   "title_sidebar": "Contents",
   "toc_cell": false,
   "toc_position": {},
   "toc_section_display": true,
   "toc_window_display": false
  },
  "varInspector": {
   "cols": {
    "lenName": 16,
    "lenType": 16,
    "lenVar": 40
   },
   "kernels_config": {
    "python": {
     "delete_cmd_postfix": "",
     "delete_cmd_prefix": "del ",
     "library": "var_list.py",
     "varRefreshCmd": "print(var_dic_list())"
    },
    "r": {
     "delete_cmd_postfix": ") ",
     "delete_cmd_prefix": "rm(",
     "library": "var_list.r",
     "varRefreshCmd": "cat(var_dic_list()) "
    }
   },
   "types_to_exclude": [
    "module",
    "function",
    "builtin_function_or_method",
    "instance",
    "_Feature"
   ],
   "window_display": false
  }
 },
 "nbformat": 4,
 "nbformat_minor": 4
}

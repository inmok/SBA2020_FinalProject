{
 "cells": [
  {
   "cell_type": "code",
   "execution_count": null,
   "metadata": {},
   "outputs": [],
   "source": [
    "#!/usr/bin/env python\n",
    "\n",
    "import rospy\n",
    "from geometry_msgs.msg import Twist\n",
    "from self_driving_turtlebot3.msg import Lane\n",
    "\n",
    "if __name__==\"__main__\":\n",
    "\trospy.init_node('test_drive')\n",
    "\tpub = rospy.Publisher('/cmd_vel', Twist, queue_size=5)\n",
    "\n",
    "\ttarget_linear_vel = 0\n",
    "\ttarget_angular_vel = 0.5\n",
    "\tcontrol_linear_vel = 0\n",
    "\tcontrol_angular_vel = 0\n",
    "\ttry:\n",
    "\t\twhile not rospy.is_shutdown():\n",
    "\t\t\tif target_linear_vel > control_linear_vel:\n",
    "\t\t\t\tcontrol_linear_vel = min(target_linear_vel, control_linear_vel + (0.01/4.0))\n",
    "\t\t\telse:\n",
    "\t\t\t\tcontrol_linear_vel = target_linear_vel\n",
    "\n",
    "\t\t\tif target_angular_vel > control_angular_vel:\n",
    "\t\t\t\tcontrol_angular_vel = min(target_angular_vel, control_angular_vel + (0.1/4.0))\n",
    "\t\t\telse:\n",
    "\t\t\t\tcontrol_angular_vel = target_angular_vel\n",
    "\n",
    "\t\t\ttwist = Twist()\n",
    "\t\t\ttwist.linear.x = control_linear_vel; twist.linear.y = 0; twist.linear.z = 0\n",
    "\t\t\ttwist.angular.x = 0; twist.angular.y = 0; twist.angular.z = control_angular_vel\n",
    "\t\t\tpub.publish(twist)\n",
    "\n",
    "\texcept:\n",
    "\t\tprint e\n",
    "\n",
    "\tfinally:\n",
    "\t\ttwist = Twist()\n",
    "        twist.linear.x = 0; twist.linear.y = 0; twist.linear.z = 0\n",
    "        twist.angular.x = 0; twist.angular.y = 0; twist.angular.z = 0\n",
    "        pub.publish(twist)"
   ]
  }
 ],
 "metadata": {
  "kernelspec": {
   "display_name": "Python 3",
   "language": "python",
   "name": "python3"
  },
  "language_info": {
   "codemirror_mode": {
    "name": "ipython",
    "version": 3
   },
   "file_extension": ".py",
   "mimetype": "text/x-python",
   "name": "python",
   "nbconvert_exporter": "python",
   "pygments_lexer": "ipython3",
   "version": "3.8.5"
  },
  "toc": {
   "base_numbering": 1,
   "nav_menu": {},
   "number_sections": true,
   "sideBar": true,
   "skip_h1_title": false,
   "title_cell": "Table of Contents",
   "title_sidebar": "Contents",
   "toc_cell": false,
   "toc_position": {},
   "toc_section_display": true,
   "toc_window_display": false
  },
  "varInspector": {
   "cols": {
    "lenName": 16,
    "lenType": 16,
    "lenVar": 40
   },
   "kernels_config": {
    "python": {
     "delete_cmd_postfix": "",
     "delete_cmd_prefix": "del ",
     "library": "var_list.py",
     "varRefreshCmd": "print(var_dic_list())"
    },
    "r": {
     "delete_cmd_postfix": ") ",
     "delete_cmd_prefix": "rm(",
     "library": "var_list.r",
     "varRefreshCmd": "cat(var_dic_list()) "
    }
   },
   "types_to_exclude": [
    "module",
    "function",
    "builtin_function_or_method",
    "instance",
    "_Feature"
   ],
   "window_display": false
  }
 },
 "nbformat": 4,
 "nbformat_minor": 4
}

{
  "nbformat": 4,
  "nbformat_minor": 0,
  "metadata": {
    "colab": {
      "name": "traffic_sign_(작업중).ipynb",
      "provenance": [],
      "collapsed_sections": [],
      "machine_shape": "hm",
      "mount_file_id": "1pJd7meI7sGNB8LrpmE-p6Eiytr9y8Hyy",
      "authorship_tag": "ABX9TyNgwsuQMQDsjPuX41fERpsM",
      "include_colab_link": true
    },
    "kernelspec": {
      "name": "python3",
      "display_name": "Python 3"
    },
    "accelerator": "GPU"
  },
  "cells": [
    {
      "cell_type": "markdown",
      "metadata": {
        "id": "view-in-github",
        "colab_type": "text"
      },
      "source": [
        "<a href=\"https://colab.research.google.com/github/kjungmo/SBA2020_FinalProject/blob/main/traffic_sign_(%EC%9E%91%EC%97%85%EC%A4%91).ipynb\" target=\"_parent\"><img src=\"https://colab.research.google.com/assets/colab-badge.svg\" alt=\"Open In Colab\"/></a>"
      ]
    },
    {
      "cell_type": "code",
      "metadata": {
        "id": "NG5W-FF0H4oS"
      },
      "source": [
        "# /content/drive/My Drive/lane/traffic_signs_classification.zip\n",
        "\n",
        "path_to_zip_file = '/content/drive/My Drive/lane/traffic_sign_classification.zip'\n",
        "directory_to_extract_to = '/content/trafficsign'\n",
        "\n",
        "import zipfile\n",
        "with zipfile.ZipFile(path_to_zip_file, 'r') as zip_ref:\n",
        "  zip_ref.extractall(directory_to_extract_to)"
      ],
      "execution_count": null,
      "outputs": []
    },
    {
      "cell_type": "code",
      "metadata": {
        "id": "IwpX_3seHrBb",
        "outputId": "ce1d7d4d-1659-4fec-992f-334b8bcd3a01",
        "colab": {
          "base_uri": "https://localhost:8080/"
        }
      },
      "source": [
        "import cv2\n",
        "import numpy as np\n",
        "import glob\n",
        "import random\n",
        "from tqdm import tqdm\n",
        "import os\n",
        "\n",
        "\n",
        "# data_gen 코드 모듈을 제일 먼저 작성한다.\n",
        "\n",
        "\n",
        "def traffic_data_gen(data_path, model_size):  # 데이터셋의 위치를 받고 모델사이즈를 받아서 모델에 넣을 데이터 생성\n",
        "\n",
        "    label = 0\n",
        "    data_set = []\n",
        "    traffic_dict = []\n",
        "    save_flag = 0\n",
        "    count = 0\n",
        "\n",
        "    train_data_path = \"trafficdata/train/\"\n",
        "    test_data_path = \"trafficdata/test/\"\n",
        "    traffic_name_txt = \"traffic_name.txt\"  # 나중에 파일 라벨 확인할 txt 문서 만들어 둔 것.(편의상)\n",
        "\n",
        "    if not os.path.isdir(train_data_path):  # 해당 디렉토리에 없다면 만들어라\n",
        "        os.makedirs(train_data_path)\n",
        "    if not os.path.isdir(test_data_path):\n",
        "        os.makedirs(test_data_path)\n",
        "\n",
        "    if len(glob.glob(train_data_path + \"*.jpg\")) > 10:  # 훈련 데이터 경로의 이미지가 10개를 초과하면 save_flag= 1\n",
        "        save_flag = 1  # 즉 이미 있으니 저장 안한다는 말. 읽어오기만 해도 된다.\n",
        "\n",
        "    # 데이터가 없다면\n",
        "    # 훈련 데이터 경로에 이미지가 없다면( 9개 이하라면)\n",
        "    if save_flag == 0:\n",
        "\n",
        "        fld_list = glob.glob(data_path + '/*')  # 폴더의 리스트를 가져온다. 데이터 경로의 모든 폴더들\n",
        "        for i in tqdm(fld_list):  # 여기서 i는 폴더리스트에 있는 요소 하나다. 즉 폴더 하나가 라벨 하나다.\n",
        "            img_list = i + '/*.jpg'  # img_list는 폴더리스트에 들어간 이미지들의 리스트경로를 가져오게 하는  값 설정\n",
        "            img_list = glob.glob(img_list)  # 해당 리스트들을 모두 파일로 가져온다.\n",
        "            for j in img_list:  # j는 폴더안의 이미지 하나 하나\n",
        "                img = cv2.imread(j)  # 이미지를 읽어서\n",
        "                # img = cv2.resize(img, (model_size, model_size))  # resize해주고\n",
        "                traffic_name = i.replace('/content/trafficsign/traffic_signs_classification/myData', '~~')   # 폴더명별로 되어있는 라벨 이름만 남김.\n",
        "                data_set.append([img, label])  # 이미지와 그에따른 라벨을 데이터셋에 추가한다.\n",
        "            traffic_dict.append(traffic_name)  # 라벨 사전에는 j의 포문 후 라벨 이름을 추가한다.\n",
        "            label += 1\n",
        "#                 img_list 포문이 돌때마다 라벨별 폴더의 이미지를 읽어서 라벨링해준다.\n",
        "#                     그에 맞는 라벨 이름도 라벨 사전에 추가된다.\n",
        "\n",
        "\n",
        "        with open(traffic_name_txt, 'w') as txt:\n",
        "            for n in traffic_dict:  # 라벨 사전에 적힌 이름들( 폴더명) 개수 만큼 돌면서\n",
        "                txt.writelines(str(n))  # txt파일에 이름을 쭉 write한다.\n",
        "                txt.writelines(\" \")  # 한칸씩 띄어쓰면서\n",
        " \n",
        "        indexer = int(len(data_set) * 0.8)  # 훈련/시험 데이터 나누는 비율\n",
        "\n",
        "        x_train = []\n",
        "        y_train = []\n",
        "        x_test = []\n",
        "        y_test = []\n",
        "\n",
        "        random.shuffle(data_set)  # 전체 데이터 섞어줌\n",
        "\n",
        "        count = 0\n",
        "        for i in tqdm(range(0, indexer)):  # 훈련데이터\n",
        "            x_train.append(data_set[i][0])\n",
        "            y_train.append(data_set[i][1])  # 위에서 [img, label]로 append해서 이렇게 [i][0] , [i][1]\n",
        "\n",
        "            save_img_path = train_data_path + \"%d.jpg\" % count  # 이미지 경로\n",
        "            save_label_file = train_data_path + \"%d.txt\" % count  # 라벨(텍스트) 경로\n",
        "\n",
        "            cv2.imwrite(save_img_path, data_set[i][0])  # 이미지 저장\n",
        "            with open(save_label_file, 'w') as txt:  # 텍스트 저장 라벨링 한 숫자에 맞아떨어지게\n",
        "                txt.writelines(str(data_set[i][1]))\n",
        "            count += 1\n",
        "\n",
        "        count = 0  # 시험 데이터도 돌려야 해서 local변수 선언 해준 것이다. 위의 count와 영향 없게\n",
        "        for i in tqdm(range(indexer, len(data_set))):\n",
        "            x_test.append(data_set[i][0])\n",
        "            y_test.append(data_set[i][1])\n",
        "\n",
        "            save_img_path = test_data_path + \"%d.jpg\" % count  # 이미지 경로\n",
        "            save_label_file = test_data_path + \"%d.txt\" % count  # 라벨(텍스트) 경로\n",
        "\n",
        "            cv2.imwrite(save_img_path, data_set[i][0])  # 이미지 저장\n",
        "\n",
        "            with open(save_label_file, 'w') as txt:  # 텍스트 저장\n",
        "                txt.writelines(str(data_set[i][1]))\n",
        "            count += 1\n",
        "\n",
        "        return x_train, y_train, x_test, y_test, traffic_dict\n",
        "\n",
        "    elif save_flag == 1:  # 이미 파일이 준비되어 있는 경우\n",
        "\n",
        "        x_train = []\n",
        "        y_train = []\n",
        "        x_test = []\n",
        "        y_test = []\n",
        "\n",
        "        train_data_list = glob.glob(train_data_path + \"*.jpg\")  # 데이터가 이미 존재하니까. 이미지 불러옴\n",
        "        test_data_list = glob.glob(test_data_path + \"*.jpg\")\n",
        "\n",
        "\n",
        "        for i in tqdm(range(0, len(train_data_list))):  # 이미지 하나하나 for문돌리면서\n",
        "            file = train_data_list[i]  # i번째 이미지\n",
        "            img = cv2.imread(file)  # 읽고\n",
        "            label_path = file.replace(\".jpg\", \".txt\")  # 라벨 데이터 읽기 위해 path만듬\n",
        "            with open(label_path, 'r') as txt:  # 라벨 데이터 txt안에서 라벨 읽어옴\n",
        "                label = txt.readlines()\n",
        "            label = int(label[0])  # 각 이미지 별 라벨 값을 얻는다.\n",
        "            x_train.append(img)  # 이미지는 x에\n",
        "            y_train.append(label)  # 라벨은 y에 넣는다\n",
        "        # 테스트 데이터도 마찬가지\n",
        "        for i in tqdm(range(0, len(test_data_list))):\n",
        "            file = test_data_list[i]\n",
        "            img = cv2.imread(file)\n",
        "            label_path = file.replace(\".jpg\", \".txt\")\n",
        "            with open(label_path, 'r') as txt:\n",
        "                label = txt.readlines()\n",
        "            label = int(label[0])\n",
        "            x_test.append(img)\n",
        "            y_test.append(label)\n",
        "        # 라벨 이름을 불러오기 위해 만들어둔 딕셔너리에서 찾아오는 방법\n",
        "        with open(traffic_name_txt, 'r') as txt:\n",
        "            label = txt.readlines()\n",
        "            traffic_dict = label[0].split(\"~~\")  # 만든 파일이 모두 띄어쓰기로 이루어진것\n",
        "\n",
        "        return x_train, y_train, x_test, y_test, traffic_dict\n",
        "\n",
        "if __name__ == \"__main__\":\n",
        "    data_path = \"/content/trafficsign/traffic_signs_classification/myData\"\n",
        "    model_size = 32\n",
        "    x_train, y_train, x_test, y_test, traffic_dict = traffic_data_gen(data_path, model_size)\n",
        "\n"
      ],
      "execution_count": null,
      "outputs": [
        {
          "output_type": "stream",
          "text": [
            "100%|██████████| 43/43 [00:04<00:00,  9.70it/s]\n",
            "100%|██████████| 58511/58511 [00:06<00:00, 8960.86it/s]\n",
            "100%|██████████| 14628/14628 [00:01<00:00, 9263.99it/s]\n"
          ],
          "name": "stderr"
        }
      ]
    },
    {
      "cell_type": "code",
      "metadata": {
        "id": "OgIJAQztutrA",
        "outputId": "690d8ad1-99cf-4a87-9ac8-e550497729d0",
        "colab": {
          "base_uri": "https://localhost:8080/"
        }
      },
      "source": [
        "traffic_dict"
      ],
      "execution_count": null,
      "outputs": [
        {
          "output_type": "execute_result",
          "data": {
            "text/plain": [
              "['~~/End of speed limit (80kmh)',\n",
              " '~~/Road work',\n",
              " '~~/Speed limit (100kmh)',\n",
              " '~~/Pedestrians',\n",
              " '~~/Vechiles over 3.5 metric tons prohibited',\n",
              " '~~/Right-of-way at the next intersection',\n",
              " '~~/End of all speed and passing limits',\n",
              " '~~/No passing',\n",
              " '~~/Speed limit (80kmh)',\n",
              " '~~/No passing for vechiles over 3.5 metric tons',\n",
              " '~~/Dangerous curve to the left',\n",
              " '~~/End of no passing',\n",
              " '~~/Speed limit (20kmh)',\n",
              " '~~/Stop',\n",
              " '~~/Beware of ice snow',\n",
              " '~~/Road narrows on the right',\n",
              " '~~/Children crossing',\n",
              " '~~/Go straight or left',\n",
              " '~~/Traffic signals',\n",
              " '~~/Yield',\n",
              " '~~/Dangerous curve to the right',\n",
              " '~~/Priority road',\n",
              " '~~/Speed limit (60kmh)',\n",
              " '~~/Turn right ahead',\n",
              " '~~/Speed limit (120kmh)',\n",
              " '~~/Roundabout mandatory',\n",
              " '~~/Keep right',\n",
              " '~~/Wild animals crossing',\n",
              " '~~/Turn left ahead',\n",
              " '~~/Bicycles crossing',\n",
              " '~~/Slippery road',\n",
              " '~~/Bumpy road',\n",
              " '~~/End of no passing by vechiles over 3.5 metric tons',\n",
              " '~~/No vechiles',\n",
              " '~~/Keep left',\n",
              " '~~/Speed limit (50kmh)',\n",
              " '~~/No entry',\n",
              " '~~/Speed limit (70kmh)',\n",
              " '~~/Speed limit (30kmh)',\n",
              " '~~/Double curve',\n",
              " '~~/Go straight or right',\n",
              " '~~/General caution',\n",
              " '~~/Ahead only']"
            ]
          },
          "metadata": {
            "tags": []
          },
          "execution_count": 4
        }
      ]
    },
    {
      "cell_type": "code",
      "metadata": {
        "id": "1KllN8SC2Aov",
        "outputId": "4cf33e4f-b9a8-4ab2-a9e9-3175a03b0c2a",
        "colab": {
          "base_uri": "https://localhost:8080/"
        }
      },
      "source": [
        "y_train[:50]"
      ],
      "execution_count": null,
      "outputs": [
        {
          "output_type": "execute_result",
          "data": {
            "text/plain": [
              "[27,\n",
              " 35,\n",
              " 26,\n",
              " 8,\n",
              " 2,\n",
              " 36,\n",
              " 5,\n",
              " 7,\n",
              " 24,\n",
              " 42,\n",
              " 26,\n",
              " 37,\n",
              " 22,\n",
              " 4,\n",
              " 16,\n",
              " 2,\n",
              " 41,\n",
              " 32,\n",
              " 41,\n",
              " 2,\n",
              " 9,\n",
              " 19,\n",
              " 38,\n",
              " 14,\n",
              " 26,\n",
              " 9,\n",
              " 27,\n",
              " 33,\n",
              " 2,\n",
              " 21,\n",
              " 38,\n",
              " 38,\n",
              " 38,\n",
              " 21,\n",
              " 13,\n",
              " 37,\n",
              " 7,\n",
              " 19,\n",
              " 19,\n",
              " 27,\n",
              " 34,\n",
              " 37,\n",
              " 1,\n",
              " 21,\n",
              " 19,\n",
              " 5,\n",
              " 9,\n",
              " 41,\n",
              " 28,\n",
              " 1]"
            ]
          },
          "metadata": {
            "tags": []
          },
          "execution_count": 5
        }
      ]
    },
    {
      "cell_type": "code",
      "metadata": {
        "id": "2OtfMg8qr383",
        "outputId": "0808ce77-bbe5-4c28-e37e-139cbe653fa4",
        "colab": {
          "base_uri": "https://localhost:8080/"
        }
      },
      "source": [
        "import keras\n",
        "import cv2\n",
        "import os\n",
        "import datetime\n",
        "import numpy as np\n",
        "import glob\n",
        "import random\n",
        "from tqdm import tqdm\n",
        "\n",
        "\n",
        "m_name = \"traffic_1\"\n",
        "lr = 0.03\n",
        "epochs=10\n",
        "bath_size = 32\n",
        "\n",
        "\n",
        "x_train = np.array(x_train)\n",
        "y_train = np.array(y_train)\n",
        "x_test = np.array(x_test)\n",
        "y_test = np.array(y_test)\n",
        "\n",
        "X_train = x_train.astype('float32')\n",
        "X_test = x_test.astype('float32')\n",
        "x_train = X_train / 255.0\n",
        "x_test = X_test / 255.0\n",
        "\n",
        "y_train = keras.utils.to_categorical(y_train, 43)\n",
        "y_test = keras.utils.to_categorical(y_test, 43)\n",
        "\n",
        "print(x_train.shape, y_train.shape, x_test.shape, y_test.shape)\n",
        "inputs = keras.Input(shape=(32, 32, 3))\n",
        "x = keras.layers.Conv2D(3, kernel_size=3,padding=\"same\")(inputs)\n",
        "x = keras.layers.Activation(\"relu\")(x)\n",
        "x = keras.layers.MaxPooling2D()(x)\n",
        "\n",
        "\n",
        "x = keras.layers.Conv2D(8, kernel_size=3,padding=\"same\")(x)\n",
        "x = keras.layers.Activation(\"relu\")(x)\n",
        "x = keras.layers.MaxPooling2D()(x)\n",
        "\n",
        "\n",
        "x = keras.layers.Conv2D(16, kernel_size=3,padding=\"same\")(x)\n",
        "x = keras.layers.Activation(\"relu\")(x)\n",
        "x = keras.layers.MaxPooling2D()(x)\n",
        "\n",
        "\n",
        "x = keras.layers.Conv2D(128, kernel_size=3,padding=\"same\")(x)\n",
        "x = keras.layers.Activation(\"relu\")(x)\n",
        "x = keras.layers.MaxPooling2D()(x)\n",
        "\n",
        "x = keras.layers.Flatten()(x)\n",
        "x= keras.layers.Dense(64)(x)\n",
        "x = keras.layers.Activation(\"relu\")(x)\n",
        "x= keras.layers.Dense(43)(x)\n",
        "\n",
        "out = keras.layers.Activation(\"softmax\")(x)\n",
        "model = keras.models.Model(inputs, out)\n",
        "\n",
        "model.summary()\n",
        "\n",
        "if not os.path.isdir('./saved_models'):\n",
        "    os.makedirs('./saved_models')\n",
        "if not os.path.isdir('./logs'):\n",
        "    os.makedirs('./logs')\n",
        "\n",
        "log_dir = os.path.join(\n",
        "    \"logs\", \"fit\", datetime.datetime.now().strftime(\"%Y%m%d-%H%M%S\"),\n",
        ")\n",
        "\n",
        "model.compile(optimizer=\"Adam\", loss=\"categorical_crossentropy\", metrics=['accuracy'])\n",
        "callbacks = [keras.callbacks.ReduceLROnPlateau(monitor='loss',\n",
        "                                               patience=20,\n",
        "                                               verbose=1, factor=0.5),\n",
        "             keras.callbacks.ModelCheckpoint(filepath='./saved_models/'+m_name+'-{epoch:05d}.h5',\n",
        "                                             verbose=1,\n",
        "                                             period=5),\n",
        "             keras.callbacks.TensorBoard(log_dir),\n",
        "             keras.callbacks.EarlyStopping(monitor='loss', patience=25, verbose=1)]\n",
        "model.fit(x_train, y_train, validation_data=(x_test,y_test), epochs=epochs, batch_size=bath_size, callbacks=callbacks, verbose=1)\n",
        "\n",
        "scores = model.evaluate(x_test,y_test, verbose=2)\n",
        "print(\"Acc:\", scores[1]*100)\n",
        "model.save('./saved_models/'+m_name+'_final.h5')"
      ],
      "execution_count": null,
      "outputs": [
        {
          "output_type": "stream",
          "text": [
            "(58511, 32, 32, 3) (58511, 43) (14628, 32, 32, 3) (14628, 43)\n",
            "Model: \"functional_1\"\n",
            "_________________________________________________________________\n",
            "Layer (type)                 Output Shape              Param #   \n",
            "=================================================================\n",
            "input_1 (InputLayer)         [(None, 32, 32, 3)]       0         \n",
            "_________________________________________________________________\n",
            "conv2d (Conv2D)              (None, 32, 32, 3)         84        \n",
            "_________________________________________________________________\n",
            "activation (Activation)      (None, 32, 32, 3)         0         \n",
            "_________________________________________________________________\n",
            "max_pooling2d (MaxPooling2D) (None, 16, 16, 3)         0         \n",
            "_________________________________________________________________\n",
            "conv2d_1 (Conv2D)            (None, 16, 16, 8)         224       \n",
            "_________________________________________________________________\n",
            "activation_1 (Activation)    (None, 16, 16, 8)         0         \n",
            "_________________________________________________________________\n",
            "max_pooling2d_1 (MaxPooling2 (None, 8, 8, 8)           0         \n",
            "_________________________________________________________________\n",
            "conv2d_2 (Conv2D)            (None, 8, 8, 16)          1168      \n",
            "_________________________________________________________________\n",
            "activation_2 (Activation)    (None, 8, 8, 16)          0         \n",
            "_________________________________________________________________\n",
            "max_pooling2d_2 (MaxPooling2 (None, 4, 4, 16)          0         \n",
            "_________________________________________________________________\n",
            "conv2d_3 (Conv2D)            (None, 4, 4, 128)         18560     \n",
            "_________________________________________________________________\n",
            "activation_3 (Activation)    (None, 4, 4, 128)         0         \n",
            "_________________________________________________________________\n",
            "max_pooling2d_3 (MaxPooling2 (None, 2, 2, 128)         0         \n",
            "_________________________________________________________________\n",
            "flatten (Flatten)            (None, 512)               0         \n",
            "_________________________________________________________________\n",
            "dense (Dense)                (None, 64)                32832     \n",
            "_________________________________________________________________\n",
            "activation_4 (Activation)    (None, 64)                0         \n",
            "_________________________________________________________________\n",
            "dense_1 (Dense)              (None, 43)                2795      \n",
            "_________________________________________________________________\n",
            "activation_5 (Activation)    (None, 43)                0         \n",
            "=================================================================\n",
            "Total params: 55,663\n",
            "Trainable params: 55,663\n",
            "Non-trainable params: 0\n",
            "_________________________________________________________________\n",
            "WARNING:tensorflow:`period` argument is deprecated. Please use `save_freq` to specify the frequency in number of batches seen.\n",
            "Epoch 1/10\n",
            "   1/1829 [..............................] - ETA: 0s - loss: 3.7500 - accuracy: 0.0000e+00WARNING:tensorflow:From /usr/local/lib/python3.6/dist-packages/tensorflow/python/ops/summary_ops_v2.py:1277: stop (from tensorflow.python.eager.profiler) is deprecated and will be removed after 2020-07-01.\n",
            "Instructions for updating:\n",
            "use `tf.profiler.experimental.stop` instead.\n",
            "WARNING:tensorflow:Callbacks method `on_train_batch_end` is slow compared to the batch time (batch time: 0.0085s vs `on_train_batch_end` time: 0.0320s). Check your callbacks.\n",
            "1829/1829 [==============================] - 7s 4ms/step - loss: 1.6093 - accuracy: 0.5562 - val_loss: 0.7235 - val_accuracy: 0.7824\n",
            "Epoch 2/10\n",
            "1829/1829 [==============================] - 7s 4ms/step - loss: 0.4530 - accuracy: 0.8663 - val_loss: 0.3723 - val_accuracy: 0.8884\n",
            "Epoch 3/10\n",
            "1829/1829 [==============================] - 7s 4ms/step - loss: 0.2716 - accuracy: 0.9185 - val_loss: 0.2560 - val_accuracy: 0.9247\n",
            "Epoch 4/10\n",
            "1829/1829 [==============================] - 7s 4ms/step - loss: 0.1942 - accuracy: 0.9407 - val_loss: 0.2297 - val_accuracy: 0.9293\n",
            "Epoch 5/10\n",
            "1819/1829 [============================>.] - ETA: 0s - loss: 0.1491 - accuracy: 0.9539\n",
            "Epoch 00005: saving model to ./saved_models/traffic_1-00005.h5\n",
            "1829/1829 [==============================] - 7s 4ms/step - loss: 0.1494 - accuracy: 0.9539 - val_loss: 0.1619 - val_accuracy: 0.9509\n",
            "Epoch 6/10\n",
            "1829/1829 [==============================] - 7s 4ms/step - loss: 0.1255 - accuracy: 0.9602 - val_loss: 0.1394 - val_accuracy: 0.9573\n",
            "Epoch 7/10\n",
            "1829/1829 [==============================] - 7s 4ms/step - loss: 0.1079 - accuracy: 0.9661 - val_loss: 0.1269 - val_accuracy: 0.9644\n",
            "Epoch 8/10\n",
            "1829/1829 [==============================] - 7s 4ms/step - loss: 0.0920 - accuracy: 0.9710 - val_loss: 0.1459 - val_accuracy: 0.9567\n",
            "Epoch 9/10\n",
            "1829/1829 [==============================] - 7s 4ms/step - loss: 0.0833 - accuracy: 0.9738 - val_loss: 0.1335 - val_accuracy: 0.9610\n",
            "Epoch 10/10\n",
            "1826/1829 [============================>.] - ETA: 0s - loss: 0.0743 - accuracy: 0.9762\n",
            "Epoch 00010: saving model to ./saved_models/traffic_1-00010.h5\n",
            "1829/1829 [==============================] - 7s 4ms/step - loss: 0.0743 - accuracy: 0.9762 - val_loss: 0.1324 - val_accuracy: 0.9617\n",
            "458/458 - 1s - loss: 0.1324 - accuracy: 0.9617\n",
            "Acc: 96.17172479629517\n"
          ],
          "name": "stdout"
        }
      ]
    },
    {
      "cell_type": "code",
      "metadata": {
        "id": "-HG7buCwxpQ1"
      },
      "source": [
        "import tensorflow as tf\n",
        "import matplotlib.pyplot as plt\n"
      ],
      "execution_count": null,
      "outputs": []
    },
    {
      "cell_type": "code",
      "metadata": {
        "id": "OCLRPGWKO0Xr"
      },
      "source": [
        "model = tf.keras.models.load_model('/content/saved_models/traffic_1_final.h5')\n",
        "pred = np.argmax(model.predict(x_test[:5]), axis=1)\n",
        "for i in range(len(pred)):\n",
        "  img = x_test[i]\n",
        "  real_name = traffic_dict[pred[i]]\n",
        "  plt.title(real_name)\n",
        "  plt.imshow(img[:, :, 0], 'gray')\n",
        "  plt.show()\n",
        "  # print(real_name)"
      ],
      "execution_count": null,
      "outputs": []
    },
    {
      "cell_type": "code",
      "metadata": {
        "id": "osJQEgFhnjiF",
        "outputId": "860a0c60-b761-4d2e-d072-a501e048346f",
        "colab": {
          "base_uri": "https://localhost:8080/"
        }
      },
      "source": [
        "prpe = []\n",
        "for i in range(0, 199):\n",
        "  x_test_x = np.expand_dims(x_test[i], axis=0)\n",
        "  \n",
        "  pred_y = np.argmax(model.predict(x_test_x), axis=1)\n",
        "  prpe.append(pred_y)\n",
        "  \n",
        "print(prpe)"
      ],
      "execution_count": null,
      "outputs": [
        {
          "output_type": "stream",
          "text": [
            "[array([37]), array([38]), array([37]), array([5]), array([38]), array([27]), array([42]), array([26]), array([35]), array([9]), array([17]), array([35]), array([42]), array([7]), array([37]), array([38]), array([8]), array([19]), array([2]), array([38]), array([37]), array([38]), array([3]), array([40]), array([1]), array([22]), array([33]), array([31]), array([0]), array([1]), array([26]), array([26]), array([21]), array([38]), array([42]), array([5]), array([38]), array([36]), array([22]), array([9]), array([6]), array([26]), array([9]), array([36]), array([33]), array([21]), array([1]), array([2]), array([24]), array([41]), array([39]), array([27]), array([9]), array([6]), array([24]), array([24]), array([8]), array([21]), array([23]), array([7]), array([24]), array([9]), array([8]), array([28]), array([16]), array([5]), array([33]), array([36]), array([12]), array([17]), array([18]), array([41]), array([8]), array([36]), array([7]), array([38]), array([19]), array([35]), array([25]), array([37]), array([4]), array([21]), array([36]), array([9]), array([2]), array([7]), array([36]), array([21]), array([36]), array([13]), array([21]), array([19]), array([41]), array([5]), array([19]), array([11]), array([41]), array([19]), array([31]), array([7]), array([8]), array([30]), array([32]), array([35]), array([1]), array([19]), array([40]), array([22]), array([37]), array([22]), array([38]), array([42]), array([8]), array([27]), array([26]), array([29]), array([38]), array([19]), array([22]), array([37]), array([24]), array([26]), array([8]), array([24]), array([38]), array([26]), array([9]), array([22]), array([22]), array([38]), array([8]), array([21]), array([7]), array([26]), array([7]), array([9]), array([20]), array([8]), array([22]), array([7]), array([37]), array([29]), array([9]), array([26]), array([26]), array([5]), array([28]), array([21]), array([22]), array([1]), array([26]), array([30]), array([8]), array([21]), array([13]), array([38]), array([28]), array([40]), array([35]), array([22]), array([20]), array([35]), array([19]), array([18]), array([21]), array([26]), array([5]), array([36]), array([28]), array([38]), array([28]), array([19]), array([2]), array([9]), array([24]), array([38]), array([30]), array([29]), array([16]), array([38]), array([38]), array([22]), array([41]), array([19]), array([19]), array([19]), array([11]), array([42]), array([42]), array([2]), array([21]), array([34]), array([8]), array([40]), array([37]), array([2]), array([16]), array([24]), array([23])]\n"
          ],
          "name": "stdout"
        }
      ]
    },
    {
      "cell_type": "code",
      "metadata": {
        "id": "P_zAphq4DOTu",
        "outputId": "67469f9f-521b-4c65-a714-279691739e31",
        "colab": {
          "base_uri": "https://localhost:8080/",
          "height": 446
        }
      },
      "source": [
        "import matplotlib.pyplot as plt\n",
        "\n",
        "\n",
        "# model.load_weights(\"/content/saved_models/traffic_1_final.h5\")\n",
        "\n",
        "for i in range(0,len(x_test[:10])):\n",
        "    img = x_test[i]\n",
        "    # img_copy = img.copy()\n",
        "    # plt.imshow(img_copy)\n",
        "    # plt.show()\n",
        "    label = y_test[i]\n",
        "    # print(label)\n",
        "    img = np.expand_dims(img,axis=0)\n",
        "    # img = img / 255.\n",
        "    plt.imshow(img[0, :, :,0])\n",
        "    # plt.show()\n",
        "    eval = model.predict(img)\n",
        "    # print(eval)\n",
        "    eval = np.argmax(eval, axis=1)\n",
        "    print(eval)\n",
        "    # eval = traffic_dict[eval]\n",
        "    # print(eval)\n"
      ],
      "execution_count": null,
      "outputs": [
        {
          "output_type": "stream",
          "text": [
            "[37]\n",
            "[38]\n",
            "[37]\n",
            "[5]\n",
            "[38]\n",
            "[27]\n",
            "[42]\n",
            "[26]\n",
            "[35]\n",
            "[9]\n"
          ],
          "name": "stdout"
        },
        {
          "output_type": "display_data",
          "data": {
            "image/png": "[encoded data removed]",
            "text/plain": [
              "<Figure size 432x288 with 1 Axes>"
            ]
          },
          "metadata": {
            "tags": [],
            "needs_background": "light"
          }
        }
      ]
    },
    {
      "cell_type": "code",
      "metadata": {
        "id": "AdFQaChcro3_",
        "outputId": "63221be8-6ebe-4c40-ec43-cdca66078f68",
        "colab": {
          "base_uri": "https://localhost:8080/"
        }
      },
      "source": [
        "print(y_test[:5])\n",
        "\n",
        "\n",
        "for i in  y_test[:5]:\n",
        "  eval = np.argmax(i) + 1\n",
        "  print(eval)\n"
      ],
      "execution_count": null,
      "outputs": [
        {
          "output_type": "stream",
          "text": [
            "[[0. 0. 0. 0. 0. 0. 0. 0. 0. 0. 0. 0. 0. 0. 0. 0. 0. 0. 0. 0. 0. 0. 0. 0.\n",
            "  0. 0. 0. 0. 0. 0. 0. 0. 0. 0. 0. 0. 0. 0. 0. 1. 0. 0. 0.]\n",
            " [0. 0. 0. 0. 0. 0. 0. 0. 0. 0. 0. 0. 0. 0. 0. 0. 0. 0. 0. 0. 1. 0. 0. 0.\n",
            "  0. 0. 0. 0. 0. 0. 0. 0. 0. 0. 0. 0. 0. 0. 0. 0. 0. 0. 0.]\n",
            " [0. 0. 0. 0. 0. 0. 0. 0. 0. 0. 0. 0. 0. 0. 0. 0. 0. 0. 0. 0. 0. 0. 0. 0.\n",
            "  0. 0. 0. 0. 0. 0. 0. 0. 0. 0. 0. 0. 0. 0. 0. 1. 0. 0. 0.]\n",
            " [0. 0. 0. 0. 0. 0. 0. 1. 0. 0. 0. 0. 0. 0. 0. 0. 0. 0. 0. 0. 0. 0. 0. 0.\n",
            "  0. 0. 0. 0. 0. 0. 0. 0. 0. 0. 0. 0. 0. 0. 0. 0. 0. 0. 0.]\n",
            " [0. 0. 0. 0. 0. 0. 0. 0. 0. 0. 0. 0. 0. 0. 0. 0. 0. 0. 0. 0. 0. 0. 0. 0.\n",
            "  0. 0. 0. 0. 1. 0. 0. 0. 0. 0. 0. 0. 0. 0. 0. 0. 0. 0. 0.]]\n",
            "40\n",
            "21\n",
            "40\n",
            "8\n",
            "29\n"
          ],
          "name": "stdout"
        }
      ]
    },
    {
      "cell_type": "code",
      "metadata": {
        "id": "-akW-WiyrrLc"
      },
      "source": [
        ""
      ],
      "execution_count": null,
      "outputs": []
    }
  ]
}